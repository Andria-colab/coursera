{
 "cells": [
  {
   "cell_type": "markdown",
   "id": "f2f26542-da9a-4ffa-a955-d8d468c7ac89",
   "metadata": {},
   "source": [
    "# Data Science Tools and Ecosystem"
   ]
  },
  {
   "cell_type": "markdown",
   "id": "6bb24db9-cf55-40a7-aa74-014d66d05511",
   "metadata": {},
   "source": [
    "##### In this notebook, Data Science Tools and Ecosystem are summarized.\n",
    "\n"
   ]
  },
  {
   "cell_type": "markdown",
   "id": "3173a382-81ec-43b0-934c-e77ea638e6ea",
   "metadata": {},
   "source": [
    "**Objectives:**\n",
    "\n",
    "- List popular languages for Data Science  \n",
    "- Demonstrate basic arithmetic expressions in Python  \n",
    "- Convert units (e.g., minutes to hours) using Python  \n",
    "- Create and interpret plots using ggplot2 in R  \n",
    "- Understand the difference between categorical and numerical variables"
   ]
  },
  {
   "cell_type": "markdown",
   "id": "d165ff11-8ebf-419c-8548-9b18613d1858",
   "metadata": {},
   "source": [
    "##### Some of the popular languages that Data Scientists use are:\n"
   ]
  },
  {
   "cell_type": "markdown",
   "id": "0721fe6b-e6ec-49c2-a5ea-ad39eeaa7d93",
   "metadata": {},
   "source": [
    "1. Python\n",
    "2. R\n",
    "3. C++"
   ]
  },
  {
   "cell_type": "markdown",
   "id": "0695a771-f5ea-41fb-a1ca-1f0ed51e1b78",
   "metadata": {},
   "source": [
    "##### Some of the commonly used libraries used by Data Scientists include:\n"
   ]
  },
  {
   "cell_type": "markdown",
   "id": "bbde1e21-f13a-4e38-bb54-211bfbe1d48d",
   "metadata": {},
   "source": [
    "1. TensorFlow\n",
    "2. Pytorch\n",
    "3. keras"
   ]
  },
  {
   "cell_type": "markdown",
   "id": "19e5d62a-10ae-4492-a93a-481a2c3ad030",
   "metadata": {},
   "source": [
    "Data Science Tools\n",
    "------------------\n",
    "Apache Spark\n",
    "\n",
    "Tableau\n",
    "\n",
    "SQL\n"
   ]
  },
  {
   "cell_type": "markdown",
   "id": "0d639dfc-5cbf-42f5-87fb-d78fbf2d97a0",
   "metadata": {},
   "source": [
    "# Arithmetic Expression Examples\n",
    "\n",
    "### Below are a few examples of evaluating arithmetic expressions in Python.\n",
    "\n",
    "# Addition\n",
    "3 + 5\n",
    "\n",
    "# Subtraction\n",
    "10 - 4\n",
    "\n",
    "# Multiplication\n",
    "6 * 7\n",
    "\n",
    "# Division\n",
    "20 / 4\n",
    "\n",
    "# Exponentiation\n",
    "2 ** 3\n",
    "\n",
    "# Modulus (remainder)\n",
    "10 % 3"
   ]
  },
  {
   "cell_type": "code",
   "execution_count": 8,
   "id": "efb9dd41-a418-41da-99a8-4a9917e2a8b5",
   "metadata": {},
   "outputs": [
    {
     "name": "stdout",
     "output_type": "stream",
     "text": [
      "Result: 17\n"
     ]
    }
   ],
   "source": [
    "# This is a simple arithmetic expression to multiply then add integers\n",
    "result = (3 * 4) + 5\n",
    "print(\"Result:\", result)"
   ]
  },
  {
   "cell_type": "code",
   "execution_count": 9,
   "id": "a76ceda1-5502-4c8a-8d20-3207f6ae69d6",
   "metadata": {},
   "outputs": [
    {
     "name": "stdout",
     "output_type": "stream",
     "text": [
      "200 minutes is equal to 3.33 hours\n"
     ]
    }
   ],
   "source": [
    "# This will convert 200 minutes to hours by dividing by 60\n",
    "hours = 200 / 60\n",
    "print(\"200 minutes is equal to\", round(hours, 2), \"hours\")\n"
   ]
  },
  {
   "cell_type": "markdown",
   "id": "8c03b19e-3eac-4e5f-9bad-4f062801a8ef",
   "metadata": {},
   "source": [
    "## Author\n",
    "\n",
    "Andria Beridze"
   ]
  },
  {
   "cell_type": "code",
   "execution_count": null,
   "id": "a8f9b0fd-3246-43ac-8cb3-788a855496d9",
   "metadata": {},
   "outputs": [],
   "source": []
  }
 ],
 "metadata": {
  "kernelspec": {
   "display_name": "Python 3 (ipykernel)",
   "language": "python",
   "name": "python3"
  },
  "language_info": {
   "codemirror_mode": {
    "name": "ipython",
    "version": 3
   },
   "file_extension": ".py",
   "mimetype": "text/x-python",
   "name": "python",
   "nbconvert_exporter": "python",
   "pygments_lexer": "ipython3",
   "version": "3.12.4"
  }
 },
 "nbformat": 4,
 "nbformat_minor": 5
}
